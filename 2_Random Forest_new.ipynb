{
 "cells": [
  {
   "cell_type": "markdown",
   "metadata": {},
   "source": [
    "## Random Forest"
   ]
  },
  {
   "cell_type": "code",
   "execution_count": 2,
   "metadata": {},
   "outputs": [
    {
     "ename": "NameError",
     "evalue": "name 'sonya' is not defined",
     "output_type": "error",
     "traceback": [
      "\u001b[0;31m---------------------------------------------------------------------------\u001b[0m",
      "\u001b[0;31mNameError\u001b[0m                                 Traceback (most recent call last)",
      "\u001b[0;32m<ipython-input-2-ba6b2327fe36>\u001b[0m in \u001b[0;36m<module>\u001b[0;34m\u001b[0m\n\u001b[1;32m      1\u001b[0m \u001b[0;32mimport\u001b[0m \u001b[0mimportlib\u001b[0m\u001b[0;34m\u001b[0m\u001b[0;34m\u001b[0m\u001b[0m\n\u001b[0;32m----> 2\u001b[0;31m \u001b[0mimportlib\u001b[0m\u001b[0;34m.\u001b[0m\u001b[0mreload\u001b[0m\u001b[0;34m(\u001b[0m\u001b[0msonya\u001b[0m\u001b[0;34m)\u001b[0m\u001b[0;34m\u001b[0m\u001b[0;34m\u001b[0m\u001b[0m\n\u001b[0m",
      "\u001b[0;31mNameError\u001b[0m: name 'sonya' is not defined"
     ]
    }
   ],
   "source": [
    "import importlib\n",
    "importlib.reload(sonya)"
   ]
  },
  {
   "cell_type": "code",
   "execution_count": 1,
   "metadata": {},
   "outputs": [
    {
     "name": "stdout",
     "output_type": "stream",
     "text": [
      "lib path is successfully appended.\n"
     ]
    },
    {
     "name": "stderr",
     "output_type": "stream",
     "text": [
      "Using TensorFlow backend.\n"
     ]
    }
   ],
   "source": [
    "\n",
    "import sys, os\n",
    "def importOwnLib():\n",
    "    if '/home/miruware/aProjects/lib' not in sys.path:\n",
    "        sys.path.append('/home/miruware/aProjects/lib')\n",
    "        print(\"lib path is successfully appended.\")\n",
    "    else:\n",
    "        print(\"lib path is already exists.\")\n",
    "\n",
    "importOwnLib()\n",
    "\n",
    "import sonyalib as sonya\n",
    "import importlib\n",
    "importlib.reload(sonya)\n",
    "import matplotlib.pyplot as plt\n",
    "from sklearn.svm import SVC\n",
    "from sklearn.model_selection import RepeatedStratifiedKFold, StratifiedKFold, train_test_split, cross_val_score\n",
    "from sklearn.feature_selection import RFECV, RFE\n",
    "from sklearn.tree import DecisionTreeClassifier\n",
    "from sklearn.ensemble import RandomForestClassifier\n",
    "from sklearn.pipeline import Pipeline\n",
    "\n",
    "import keras\n",
    "import numpy as np\n",
    "\n",
    "from keras.models import Sequential\n",
    "from keras.layers import Dense, Activation, Flatten, BatchNormalization, Dropout\n",
    "# from tensorflow.python.keras._impl.keras import Model\n",
    "# from tensorflow.python.keras._impl.keras.models import Model\n",
    "from keras import losses\n",
    "from keras.optimizers import adam\n",
    "import tensorflow as tf\n",
    "from sklearn.model_selection import GridSearchCV"
   ]
  },
  {
   "cell_type": "markdown",
   "metadata": {},
   "source": [
    "### Random Forest and Grid Search"
   ]
  },
  {
   "cell_type": "code",
   "execution_count": 7,
   "metadata": {},
   "outputs": [],
   "source": [
    "PATH_EXCEL = './BRC_input_201116.xlsx'\n",
    "metadata = sonya.get_original_metadata(PATH_EXCEL)\n",
    "\n",
    "# df_filtered = metadata.dropna(axis=0, how='any').reset_index(drop=True)  # NaN drop\n",
    "properties = list(metadata.columns.values)\n",
    "properties.remove('label')\n",
    "X_origin = metadata[properties]\n",
    "y_origin = metadata['label']\n",
    "\n",
    "X_train, X_test, y_train, y_test = train_test_split(X_origin, y_origin, test_size=0.3, random_state=0)"
   ]
  },
  {
   "cell_type": "code",
   "execution_count": 6,
   "metadata": {},
   "outputs": [
    {
     "name": "stdout",
     "output_type": "stream",
     "text": [
      "['sex', 'age', 'LR', 'cT', 'cN', 'cAverage', 'cSD', 'aAverage', 'aSD', 'lMax', 'homogeneous', 'hetero', 'rim', 'clustered', 'non-mass', 'AorCa', 'LymAo', 'LymCa'] 18\n"
     ]
    }
   ],
   "source": [
    "print(properties, len(properties))"
   ]
  },
  {
   "cell_type": "code",
   "execution_count": null,
   "metadata": {},
   "outputs": [],
   "source": []
  },
  {
   "cell_type": "code",
   "execution_count": 8,
   "metadata": {},
   "outputs": [
    {
     "name": "stdout",
     "output_type": "stream",
     "text": [
      "Fitting 10 folds for each of 12 candidates, totalling 120 fits\n",
      "[CV] max_features=2, n_estimators=10 .................................\n",
      "[CV] .................. max_features=2, n_estimators=10, total=   0.0s\n",
      "[CV] max_features=2, n_estimators=10 .................................\n",
      "[CV] .................. max_features=2, n_estimators=10, total=   0.0s\n",
      "[CV] max_features=2, n_estimators=10 .................................\n",
      "[CV] .................. max_features=2, n_estimators=10, total=   0.0s\n",
      "[CV] max_features=2, n_estimators=10 .................................\n",
      "[CV] .................. max_features=2, n_estimators=10, total=   0.0s\n",
      "[CV] max_features=2, n_estimators=10 .................................\n",
      "[CV] .................. max_features=2, n_estimators=10, total=   0.0s\n",
      "[CV] max_features=2, n_estimators=10 .................................\n",
      "[CV] .................. max_features=2, n_estimators=10, total=   0.0s\n",
      "[CV] max_features=2, n_estimators=10 .................................\n",
      "[CV] .................. max_features=2, n_estimators=10, total=   0.0s\n",
      "[CV] max_features=2, n_estimators=10 .................................\n",
      "[CV] .................. max_features=2, n_estimators=10, total=   0.0s\n",
      "[CV] max_features=2, n_estimators=10 .................................\n",
      "[CV] .................. max_features=2, n_estimators=10, total=   0.0s\n",
      "[CV] max_features=2, n_estimators=10 .................................\n",
      "[CV] .................. max_features=2, n_estimators=10, total=   0.0s\n",
      "[CV] max_features=2, n_estimators=20 .................................\n",
      "[CV] .................. max_features=2, n_estimators=20, total=   0.0s\n",
      "[CV] max_features=2, n_estimators=20 .................................\n"
     ]
    },
    {
     "name": "stderr",
     "output_type": "stream",
     "text": [
      "[Parallel(n_jobs=1)]: Done   1 out of   1 | elapsed:    0.0s remaining:    0.0s\n"
     ]
    },
    {
     "name": "stdout",
     "output_type": "stream",
     "text": [
      "[CV] .................. max_features=2, n_estimators=20, total=   0.0s\n",
      "[CV] max_features=2, n_estimators=20 .................................\n",
      "[CV] .................. max_features=2, n_estimators=20, total=   0.0s\n",
      "[CV] max_features=2, n_estimators=20 .................................\n",
      "[CV] .................. max_features=2, n_estimators=20, total=   0.0s\n",
      "[CV] max_features=2, n_estimators=20 .................................\n",
      "[CV] .................. max_features=2, n_estimators=20, total=   0.0s\n",
      "[CV] max_features=2, n_estimators=20 .................................\n",
      "[CV] .................. max_features=2, n_estimators=20, total=   0.0s\n",
      "[CV] max_features=2, n_estimators=20 .................................\n",
      "[CV] .................. max_features=2, n_estimators=20, total=   0.0s\n",
      "[CV] max_features=2, n_estimators=20 .................................\n",
      "[CV] .................. max_features=2, n_estimators=20, total=   0.0s\n",
      "[CV] max_features=2, n_estimators=20 .................................\n",
      "[CV] .................. max_features=2, n_estimators=20, total=   0.0s\n",
      "[CV] max_features=2, n_estimators=20 .................................\n",
      "[CV] .................. max_features=2, n_estimators=20, total=   0.0s\n",
      "[CV] max_features=2, n_estimators=30 .................................\n",
      "[CV] .................. max_features=2, n_estimators=30, total=   0.0s\n",
      "[CV] max_features=2, n_estimators=30 .................................\n",
      "[CV] .................. max_features=2, n_estimators=30, total=   0.0s\n",
      "[CV] max_features=2, n_estimators=30 .................................\n",
      "[CV] .................. max_features=2, n_estimators=30, total=   0.0s\n",
      "[CV] max_features=2, n_estimators=30 .................................\n",
      "[CV] .................. max_features=2, n_estimators=30, total=   0.0s\n",
      "[CV] max_features=2, n_estimators=30 .................................\n",
      "[CV] .................. max_features=2, n_estimators=30, total=   0.0s\n",
      "[CV] max_features=2, n_estimators=30 .................................\n",
      "[CV] .................. max_features=2, n_estimators=30, total=   0.0s\n",
      "[CV] max_features=2, n_estimators=30 .................................\n",
      "[CV] .................. max_features=2, n_estimators=30, total=   0.0s\n",
      "[CV] max_features=2, n_estimators=30 .................................\n",
      "[CV] .................. max_features=2, n_estimators=30, total=   0.0s\n",
      "[CV] max_features=2, n_estimators=30 .................................\n",
      "[CV] .................. max_features=2, n_estimators=30, total=   0.0s\n",
      "[CV] max_features=2, n_estimators=30 .................................\n",
      "[CV] .................. max_features=2, n_estimators=30, total=   0.0s\n",
      "[CV] max_features=4, n_estimators=10 .................................\n",
      "[CV] .................. max_features=4, n_estimators=10, total=   0.0s\n",
      "[CV] max_features=4, n_estimators=10 .................................\n",
      "[CV] .................. max_features=4, n_estimators=10, total=   0.0s\n",
      "[CV] max_features=4, n_estimators=10 .................................\n",
      "[CV] .................. max_features=4, n_estimators=10, total=   0.0s\n",
      "[CV] max_features=4, n_estimators=10 .................................\n",
      "[CV] .................. max_features=4, n_estimators=10, total=   0.0s\n",
      "[CV] max_features=4, n_estimators=10 .................................\n",
      "[CV] .................. max_features=4, n_estimators=10, total=   0.0s\n",
      "[CV] max_features=4, n_estimators=10 .................................\n",
      "[CV] .................. max_features=4, n_estimators=10, total=   0.0s\n",
      "[CV] max_features=4, n_estimators=10 .................................\n",
      "[CV] .................. max_features=4, n_estimators=10, total=   0.0s\n",
      "[CV] max_features=4, n_estimators=10 .................................\n",
      "[CV] .................. max_features=4, n_estimators=10, total=   0.0s\n",
      "[CV] max_features=4, n_estimators=10 .................................\n",
      "[CV] .................. max_features=4, n_estimators=10, total=   0.0s\n",
      "[CV] max_features=4, n_estimators=10 .................................\n",
      "[CV] .................. max_features=4, n_estimators=10, total=   0.0s\n",
      "[CV] max_features=4, n_estimators=20 .................................\n",
      "[CV] .................. max_features=4, n_estimators=20, total=   0.0s\n",
      "[CV] max_features=4, n_estimators=20 .................................\n",
      "[CV] .................. max_features=4, n_estimators=20, total=   0.0s\n",
      "[CV] max_features=4, n_estimators=20 .................................\n",
      "[CV] .................. max_features=4, n_estimators=20, total=   0.0s\n",
      "[CV] max_features=4, n_estimators=20 .................................\n",
      "[CV] .................. max_features=4, n_estimators=20, total=   0.0s\n",
      "[CV] max_features=4, n_estimators=20 .................................\n",
      "[CV] .................. max_features=4, n_estimators=20, total=   0.0s\n",
      "[CV] max_features=4, n_estimators=20 .................................\n",
      "[CV] .................. max_features=4, n_estimators=20, total=   0.0s\n",
      "[CV] max_features=4, n_estimators=20 .................................\n",
      "[CV] .................. max_features=4, n_estimators=20, total=   0.0s\n",
      "[CV] max_features=4, n_estimators=20 .................................\n",
      "[CV] .................. max_features=4, n_estimators=20, total=   0.0s\n",
      "[CV] max_features=4, n_estimators=20 .................................\n",
      "[CV] .................. max_features=4, n_estimators=20, total=   0.0s\n",
      "[CV] max_features=4, n_estimators=20 .................................\n",
      "[CV] .................. max_features=4, n_estimators=20, total=   0.0s\n",
      "[CV] max_features=4, n_estimators=30 .................................\n",
      "[CV] .................. max_features=4, n_estimators=30, total=   0.0s\n",
      "[CV] max_features=4, n_estimators=30 .................................\n",
      "[CV] .................. max_features=4, n_estimators=30, total=   0.0s\n",
      "[CV] max_features=4, n_estimators=30 .................................\n",
      "[CV] .................. max_features=4, n_estimators=30, total=   0.0s\n",
      "[CV] max_features=4, n_estimators=30 .................................\n",
      "[CV] .................. max_features=4, n_estimators=30, total=   0.0s\n",
      "[CV] max_features=4, n_estimators=30 .................................\n",
      "[CV] .................. max_features=4, n_estimators=30, total=   0.0s\n",
      "[CV] max_features=4, n_estimators=30 .................................\n",
      "[CV] .................. max_features=4, n_estimators=30, total=   0.0s\n",
      "[CV] max_features=4, n_estimators=30 .................................\n",
      "[CV] .................. max_features=4, n_estimators=30, total=   0.0s\n",
      "[CV] max_features=4, n_estimators=30 .................................\n",
      "[CV] .................. max_features=4, n_estimators=30, total=   0.0s\n",
      "[CV] max_features=4, n_estimators=30 .................................\n",
      "[CV] .................. max_features=4, n_estimators=30, total=   0.0s\n",
      "[CV] max_features=4, n_estimators=30 .................................\n",
      "[CV] .................. max_features=4, n_estimators=30, total=   0.0s\n",
      "[CV] bootstrap=False, max_features=2, n_estimators=10 ................\n",
      "[CV] . bootstrap=False, max_features=2, n_estimators=10, total=   0.0s\n",
      "[CV] bootstrap=False, max_features=2, n_estimators=10 ................\n",
      "[CV] . bootstrap=False, max_features=2, n_estimators=10, total=   0.0s\n",
      "[CV] bootstrap=False, max_features=2, n_estimators=10 ................\n",
      "[CV] . bootstrap=False, max_features=2, n_estimators=10, total=   0.0s\n",
      "[CV] bootstrap=False, max_features=2, n_estimators=10 ................\n",
      "[CV] . bootstrap=False, max_features=2, n_estimators=10, total=   0.0s\n",
      "[CV] bootstrap=False, max_features=2, n_estimators=10 ................\n",
      "[CV] . bootstrap=False, max_features=2, n_estimators=10, total=   0.0s\n",
      "[CV] bootstrap=False, max_features=2, n_estimators=10 ................\n",
      "[CV] . bootstrap=False, max_features=2, n_estimators=10, total=   0.0s\n",
      "[CV] bootstrap=False, max_features=2, n_estimators=10 ................\n",
      "[CV] . bootstrap=False, max_features=2, n_estimators=10, total=   0.0s\n",
      "[CV] bootstrap=False, max_features=2, n_estimators=10 ................\n",
      "[CV] . bootstrap=False, max_features=2, n_estimators=10, total=   0.0s\n",
      "[CV] bootstrap=False, max_features=2, n_estimators=10 ................\n",
      "[CV] . bootstrap=False, max_features=2, n_estimators=10, total=   0.0s\n",
      "[CV] bootstrap=False, max_features=2, n_estimators=10 ................\n",
      "[CV] . bootstrap=False, max_features=2, n_estimators=10, total=   0.0s\n",
      "[CV] bootstrap=False, max_features=2, n_estimators=20 ................\n",
      "[CV] . bootstrap=False, max_features=2, n_estimators=20, total=   0.0s\n",
      "[CV] bootstrap=False, max_features=2, n_estimators=20 ................\n",
      "[CV] . bootstrap=False, max_features=2, n_estimators=20, total=   0.0s\n",
      "[CV] bootstrap=False, max_features=2, n_estimators=20 ................\n",
      "[CV] . bootstrap=False, max_features=2, n_estimators=20, total=   0.0s\n",
      "[CV] bootstrap=False, max_features=2, n_estimators=20 ................\n",
      "[CV] . bootstrap=False, max_features=2, n_estimators=20, total=   0.0s\n",
      "[CV] bootstrap=False, max_features=2, n_estimators=20 ................\n",
      "[CV] . bootstrap=False, max_features=2, n_estimators=20, total=   0.0s\n",
      "[CV] bootstrap=False, max_features=2, n_estimators=20 ................\n",
      "[CV] . bootstrap=False, max_features=2, n_estimators=20, total=   0.0s\n",
      "[CV] bootstrap=False, max_features=2, n_estimators=20 ................\n",
      "[CV] . bootstrap=False, max_features=2, n_estimators=20, total=   0.0s\n",
      "[CV] bootstrap=False, max_features=2, n_estimators=20 ................\n",
      "[CV] . bootstrap=False, max_features=2, n_estimators=20, total=   0.0s\n",
      "[CV] bootstrap=False, max_features=2, n_estimators=20 ................\n",
      "[CV] . bootstrap=False, max_features=2, n_estimators=20, total=   0.0s\n",
      "[CV] bootstrap=False, max_features=2, n_estimators=20 ................\n",
      "[CV] . bootstrap=False, max_features=2, n_estimators=20, total=   0.0s\n",
      "[CV] bootstrap=False, max_features=2, n_estimators=30 ................\n",
      "[CV] . bootstrap=False, max_features=2, n_estimators=30, total=   0.0s\n",
      "[CV] bootstrap=False, max_features=2, n_estimators=30 ................\n",
      "[CV] . bootstrap=False, max_features=2, n_estimators=30, total=   0.0s\n",
      "[CV] bootstrap=False, max_features=2, n_estimators=30 ................\n",
      "[CV] . bootstrap=False, max_features=2, n_estimators=30, total=   0.0s\n",
      "[CV] bootstrap=False, max_features=2, n_estimators=30 ................\n",
      "[CV] . bootstrap=False, max_features=2, n_estimators=30, total=   0.0s\n",
      "[CV] bootstrap=False, max_features=2, n_estimators=30 ................\n",
      "[CV] . bootstrap=False, max_features=2, n_estimators=30, total=   0.0s\n",
      "[CV] bootstrap=False, max_features=2, n_estimators=30 ................\n",
      "[CV] . bootstrap=False, max_features=2, n_estimators=30, total=   0.0s\n",
      "[CV] bootstrap=False, max_features=2, n_estimators=30 ................\n",
      "[CV] . bootstrap=False, max_features=2, n_estimators=30, total=   0.0s\n",
      "[CV] bootstrap=False, max_features=2, n_estimators=30 ................\n",
      "[CV] . bootstrap=False, max_features=2, n_estimators=30, total=   0.0s\n",
      "[CV] bootstrap=False, max_features=2, n_estimators=30 ................\n",
      "[CV] . bootstrap=False, max_features=2, n_estimators=30, total=   0.0s\n",
      "[CV] bootstrap=False, max_features=2, n_estimators=30 ................\n",
      "[CV] . bootstrap=False, max_features=2, n_estimators=30, total=   0.0s\n",
      "[CV] bootstrap=False, max_features=4, n_estimators=10 ................\n",
      "[CV] . bootstrap=False, max_features=4, n_estimators=10, total=   0.0s\n",
      "[CV] bootstrap=False, max_features=4, n_estimators=10 ................\n",
      "[CV] . bootstrap=False, max_features=4, n_estimators=10, total=   0.0s\n",
      "[CV] bootstrap=False, max_features=4, n_estimators=10 ................\n",
      "[CV] . bootstrap=False, max_features=4, n_estimators=10, total=   0.0s\n",
      "[CV] bootstrap=False, max_features=4, n_estimators=10 ................\n",
      "[CV] . bootstrap=False, max_features=4, n_estimators=10, total=   0.0s\n",
      "[CV] bootstrap=False, max_features=4, n_estimators=10 ................\n",
      "[CV] . bootstrap=False, max_features=4, n_estimators=10, total=   0.0s\n",
      "[CV] bootstrap=False, max_features=4, n_estimators=10 ................\n",
      "[CV] . bootstrap=False, max_features=4, n_estimators=10, total=   0.0s\n",
      "[CV] bootstrap=False, max_features=4, n_estimators=10 ................\n",
      "[CV] . bootstrap=False, max_features=4, n_estimators=10, total=   0.0s\n",
      "[CV] bootstrap=False, max_features=4, n_estimators=10 ................\n",
      "[CV] . bootstrap=False, max_features=4, n_estimators=10, total=   0.0s\n",
      "[CV] bootstrap=False, max_features=4, n_estimators=10 ................\n",
      "[CV] . bootstrap=False, max_features=4, n_estimators=10, total=   0.0s\n",
      "[CV] bootstrap=False, max_features=4, n_estimators=10 ................\n",
      "[CV] . bootstrap=False, max_features=4, n_estimators=10, total=   0.0s\n",
      "[CV] bootstrap=False, max_features=4, n_estimators=20 ................\n",
      "[CV] . bootstrap=False, max_features=4, n_estimators=20, total=   0.0s\n",
      "[CV] bootstrap=False, max_features=4, n_estimators=20 ................\n",
      "[CV] . bootstrap=False, max_features=4, n_estimators=20, total=   0.0s\n",
      "[CV] bootstrap=False, max_features=4, n_estimators=20 ................\n",
      "[CV] . bootstrap=False, max_features=4, n_estimators=20, total=   0.0s\n",
      "[CV] bootstrap=False, max_features=4, n_estimators=20 ................\n",
      "[CV] . bootstrap=False, max_features=4, n_estimators=20, total=   0.0s\n",
      "[CV] bootstrap=False, max_features=4, n_estimators=20 ................\n",
      "[CV] . bootstrap=False, max_features=4, n_estimators=20, total=   0.0s\n",
      "[CV] bootstrap=False, max_features=4, n_estimators=20 ................\n",
      "[CV] . bootstrap=False, max_features=4, n_estimators=20, total=   0.0s\n",
      "[CV] bootstrap=False, max_features=4, n_estimators=20 ................\n",
      "[CV] . bootstrap=False, max_features=4, n_estimators=20, total=   0.0s\n",
      "[CV] bootstrap=False, max_features=4, n_estimators=20 ................\n",
      "[CV] . bootstrap=False, max_features=4, n_estimators=20, total=   0.0s\n",
      "[CV] bootstrap=False, max_features=4, n_estimators=20 ................\n",
      "[CV] . bootstrap=False, max_features=4, n_estimators=20, total=   0.0s\n",
      "[CV] bootstrap=False, max_features=4, n_estimators=20 ................\n",
      "[CV] . bootstrap=False, max_features=4, n_estimators=20, total=   0.0s\n",
      "[CV] bootstrap=False, max_features=4, n_estimators=30 ................\n",
      "[CV] . bootstrap=False, max_features=4, n_estimators=30, total=   0.0s\n",
      "[CV] bootstrap=False, max_features=4, n_estimators=30 ................\n",
      "[CV] . bootstrap=False, max_features=4, n_estimators=30, total=   0.0s\n",
      "[CV] bootstrap=False, max_features=4, n_estimators=30 ................\n",
      "[CV] . bootstrap=False, max_features=4, n_estimators=30, total=   0.0s\n",
      "[CV] bootstrap=False, max_features=4, n_estimators=30 ................\n",
      "[CV] . bootstrap=False, max_features=4, n_estimators=30, total=   0.0s\n",
      "[CV] bootstrap=False, max_features=4, n_estimators=30 ................\n",
      "[CV] . bootstrap=False, max_features=4, n_estimators=30, total=   0.0s\n",
      "[CV] bootstrap=False, max_features=4, n_estimators=30 ................\n",
      "[CV] . bootstrap=False, max_features=4, n_estimators=30, total=   0.0s\n",
      "[CV] bootstrap=False, max_features=4, n_estimators=30 ................\n",
      "[CV] . bootstrap=False, max_features=4, n_estimators=30, total=   0.0s\n",
      "[CV] bootstrap=False, max_features=4, n_estimators=30 ................\n",
      "[CV] . bootstrap=False, max_features=4, n_estimators=30, total=   0.0s\n",
      "[CV] bootstrap=False, max_features=4, n_estimators=30 ................\n",
      "[CV] . bootstrap=False, max_features=4, n_estimators=30, total=   0.0s\n",
      "[CV] bootstrap=False, max_features=4, n_estimators=30 ................\n",
      "[CV] . bootstrap=False, max_features=4, n_estimators=30, total=   0.0s\n"
     ]
    },
    {
     "name": "stderr",
     "output_type": "stream",
     "text": [
      "[Parallel(n_jobs=1)]: Done 120 out of 120 | elapsed:    2.5s finished\n"
     ]
    },
    {
     "data": {
      "text/plain": [
       "GridSearchCV(cv=10, error_score='raise',\n",
       "       estimator=RandomForestClassifier(bootstrap=True, class_weight=None, criterion='gini',\n",
       "            max_depth=None, max_features='auto', max_leaf_nodes=None,\n",
       "            min_impurity_decrease=0.0, min_impurity_split=None,\n",
       "            min_samples_leaf=1, min_samples_split=2,\n",
       "            min_weight_fraction_leaf=0.0, n_estimators=10, n_jobs=1,\n",
       "            oob_score=False, random_state=None, verbose=0,\n",
       "            warm_start=False),\n",
       "       fit_params=None, iid=True, n_jobs=1,\n",
       "       param_grid=[{'n_estimators': [10, 20, 30], 'max_features': [2, 4]}, {'bootstrap': [False], 'n_estimators': [10, 20, 30], 'max_features': [2, 4]}],\n",
       "       pre_dispatch='2*n_jobs', refit=True, return_train_score=True,\n",
       "       scoring='accuracy', verbose=2)"
      ]
     },
     "execution_count": 8,
     "metadata": {},
     "output_type": "execute_result"
    }
   ],
   "source": [
    "n_estimators = [10,20,30]\n",
    "max_features = [2,4]\n",
    "bootstrap=[False]\n",
    "\n",
    "param_grid = [{'n_estimators': n_estimators, 'max_features': max_features},\n",
    "             {'bootstrap': bootstrap, 'n_estimators': n_estimators, 'max_features': max_features}]\n",
    "\n",
    "rf = RandomForestClassifier()\n",
    "grid_search = GridSearchCV(rf, param_grid=param_grid, cv=10, scoring='accuracy',\n",
    "                          verbose=2, n_jobs=1, return_train_score=True)\n",
    "grid_search.fit(X_train, y_train)"
   ]
  },
  {
   "cell_type": "code",
   "execution_count": 18,
   "metadata": {},
   "outputs": [],
   "source": [
    "model=grid_search.best_estimator_"
   ]
  },
  {
   "cell_type": "code",
   "execution_count": 19,
   "metadata": {},
   "outputs": [
    {
     "ename": "AttributeError",
     "evalue": "'RandomForestClassifier' object has no attribute 'summary'",
     "output_type": "error",
     "traceback": [
      "\u001b[0;31m---------------------------------------------------------------------------\u001b[0m",
      "\u001b[0;31mAttributeError\u001b[0m                            Traceback (most recent call last)",
      "\u001b[0;32m<ipython-input-19-5f15418b3570>\u001b[0m in \u001b[0;36m<module>\u001b[0;34m()\u001b[0m\n\u001b[0;32m----> 1\u001b[0;31m \u001b[0mmodel\u001b[0m\u001b[0;34m.\u001b[0m\u001b[0msummary\u001b[0m\u001b[0;34m(\u001b[0m\u001b[0;34m)\u001b[0m\u001b[0;34m\u001b[0m\u001b[0;34m\u001b[0m\u001b[0m\n\u001b[0m",
      "\u001b[0;31mAttributeError\u001b[0m: 'RandomForestClassifier' object has no attribute 'summary'"
     ]
    }
   ],
   "source": [
    "model.summary()"
   ]
  },
  {
   "cell_type": "code",
   "execution_count": null,
   "metadata": {},
   "outputs": [],
   "source": []
  }
 ],
 "metadata": {
  "kernelspec": {
   "display_name": "env4_tf1",
   "language": "python",
   "name": "env4_tf1"
  },
  "language_info": {
   "codemirror_mode": {
    "name": "ipython",
    "version": 3
   },
   "file_extension": ".py",
   "mimetype": "text/x-python",
   "name": "python",
   "nbconvert_exporter": "python",
   "pygments_lexer": "ipython3",
   "version": "3.6.8"
  }
 },
 "nbformat": 4,
 "nbformat_minor": 2
}
