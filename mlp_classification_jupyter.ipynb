{
 "cells": [
  {
   "cell_type": "code",
   "execution_count": 1,
   "metadata": {
    "collapsed": true
   },
   "outputs": [],
   "source": [
    "\n",
    "\n",
    "\n",
    " #-*- coding: utf-8 -*-\n",
    "from IPython.core.interactiveshell import InteractiveShell\n",
    "InteractiveShell.ast_node_interactivity = \"all\""
   ]
  },
  {
   "cell_type": "code",
   "execution_count": 3,
   "metadata": {},
   "outputs": [
    {
     "ename": "ModuleNotFoundError",
     "evalue": "No module named 'sonya_lib'",
     "output_type": "error",
     "traceback": [
      "\u001b[0;31m---------------------------------------------------------------------------\u001b[0m",
      "\u001b[0;31mModuleNotFoundError\u001b[0m                       Traceback (most recent call last)",
      "\u001b[0;32m<ipython-input-3-2b20efe84726>\u001b[0m in \u001b[0;36m<module>\u001b[0;34m\u001b[0m\n\u001b[1;32m      3\u001b[0m  \u001b[0;31m## 원하는 lib이 있는 경로 지정\u001b[0m\u001b[0;34m\u001b[0m\u001b[0;34m\u001b[0m\u001b[0;34m\u001b[0m\u001b[0m\n\u001b[1;32m      4\u001b[0m \u001b[0msys\u001b[0m\u001b[0;34m.\u001b[0m\u001b[0mpath\u001b[0m\u001b[0;34m.\u001b[0m\u001b[0mappend\u001b[0m\u001b[0;34m(\u001b[0m\u001b[0mlib_path\u001b[0m\u001b[0;34m)\u001b[0m\u001b[0;34m\u001b[0m\u001b[0;34m\u001b[0m\u001b[0m\n\u001b[0;32m----> 5\u001b[0;31m \u001b[0;32mimport\u001b[0m \u001b[0msonya_lib\u001b[0m\u001b[0;34m\u001b[0m\u001b[0;34m\u001b[0m\u001b[0m\n\u001b[0m",
      "\u001b[0;31mModuleNotFoundError\u001b[0m: No module named 'sonya_lib'"
     ]
    }
   ],
   "source": [
    "import os, sys\n",
    "lib_path = os.path.abspath(os.path.join(os.__file__, '..','lib'))\n",
    " ## 원하는 lib이 있는 경로 지정\n",
    "sys.path.append(lib_path)\n",
    "import sonya_lib"
   ]
  },
  {
   "cell_type": "code",
   "execution_count": 2,
   "metadata": {
    "collapsed": false,
    "pycharm": {
     "name": "#%%\n"
    }
   },
   "outputs": [
    {
     "name": "stderr",
     "output_type": "stream",
     "text": [
      "Using TensorFlow backend.\n"
     ]
    }
   ],
   "source": [
    "from keras.optimizers import Adam\n",
    "from sklearn.model_selection import train_test_split\n",
    "# from pyimagesearch import datasets\n",
    "# from pyimagesearch import models\n",
    "\n",
    "from sklearn.model_selection import GridSearchCV\n",
    "from sklearn.pipeline import Pipeline\n",
    "from sklearn.preprocessing import StandardScaler\n",
    "from sklearn.svm import SVC\n",
    "\n",
    "import numpy as np\n",
    "import argparse\n",
    "import locale\n",
    "import os\n",
    "import sys\n",
    "\n",
    "\n",
    "import pandas as pd\n",
    "import numpy as np\n",
    "import warnings\n",
    "warnings.filterwarnings(action='ignore')\n",
    "\n",
    "\n",
    "import matplotlib\n",
    "import matplotlib.pyplot as plt\n",
    "\n",
    "# %matplotlib inline\n",
    "\n",
    "import keras\n",
    "import tensorflow as tf\n",
    "\n",
    "# -------------------------\n",
    "from sklearn.preprocessing import LabelBinarizer, MinMaxScaler\n",
    "from sklearn.model_selection import train_test_split, KFold, cross_val_score, cross_val_predict\n",
    "from sklearn.metrics import auc\n",
    "from sklearn.metrics import roc_curve # plot_roc_curve\n",
    "from keras.models import Sequential\n",
    "from keras.layers import Dense, Activation, Flatten\n",
    "from keras.wrappers.scikit_learn import KerasClassifier\n",
    "from keras.utils import to_categorical\n"
   ]
  },
  {
   "cell_type": "code",
   "execution_count": null,
   "metadata": {
    "collapsed": false,
    "pycharm": {
     "name": "#%%\n"
    }
   },
   "outputs": [],
   "source": [
    "path = './total_836_200622_test.xlsx'\n",
    "df = pd.read_excel(path)\n",
    "\n",
    "\n",
    "def homogeneous(row):\n",
    "    if row['Enhancement'] == 'no-enhancement':\n",
    "        return 0.25\n",
    "    elif row['Enhancement'] == 'weak':\n",
    "        return 0.50\n",
    "    elif row['Enhancement'] == 'moderate':\n",
    "        return 0.75\n",
    "    elif row['Enhancement'] == 'high':\n",
    "        return 1\n",
    "    else:\n",
    "        return 0\n",
    "\n",
    "def normalize(dataset):\n",
    "    dataNorm = ((dataset-dataset.min())/(dataset.max()-dataset.min()))\n",
    "    dataset = dataNorm\n",
    "    return dataset\n",
    "\n",
    "\n",
    "df_filtered = df[[u'시행시나이','cT']]\n",
    "\n",
    "\n",
    "# df_filtered = df[[u'시행시나이','cT','aAverage','aSD','cAverage','cSD']]\n",
    "# df_filtered['cT'] = normalize(df['cT'])\n",
    "# df_filtered['cT'] = normalize(df['cT'])\n",
    "# df_filtered['L/R'] = np.where(df['L/R'] == 'L', 1, 0) # L/R\n",
    "df_filtered['hu_diff'] = normalize(df['aAverage'] - df['cAverage'])\n",
    "df_filtered['homogeneous'] = df.apply(homogeneous, axis=1)\n",
    "df_filtered['hetero'] = np.where(df['Enhancement'] == 'hetero', 1, 0)\n",
    "df_filtered['rim'] = np.where(df['Enhancement'] == 'rim', 1, 0)\n",
    "df_filtered['clustered'] = np.where(df['Enhancement'] == 'clustered', 1, 0)\n",
    "df_filtered['non-mass'] = np.where(df['Enhancement'] == 'non-mass', 1, 0)\n",
    "df_filtered['label'] = df['pN_modify']\n",
    "\n",
    "df_filtered = df_filtered.rename(columns={u'시행시나이': u'age'})\n",
    "\n",
    "properties = list(df_filtered.columns.values)\n",
    "properties.remove('label')\n",
    "X = df_filtered[properties]\n",
    "y = df_filtered['label']\n",
    "num_input = len(X.columns)\n",
    "\n",
    "\n"
   ]
  },
  {
   "cell_type": "code",
   "execution_count": null,
   "metadata": {
    "collapsed": false,
    "pycharm": {
     "name": "#%%\n"
    }
   },
   "outputs": [],
   "source": [
    "kfold = KFold(n_splits=5, shuffle=True)\n",
    "print(kfold)\n",
    "accuracy = []\n",
    "\n",
    "\n",
    "for train, validation in kfold.split(X, y):\n",
    "\n",
    "    X_train, X_test = X.iloc[train], X.iloc[validation]\n",
    "    y_train, y_test = y.iloc[train], y.iloc[validation]\n",
    "\n",
    "    model = Sequential()\n",
    "\n",
    "    model.add(Dense(16, activation='relu', input_dim=num_input))\n",
    "    model.add(Dense(16, activation='relu'))\n",
    "    model.add(Dense(1, activation='sigmoid'))\n",
    "\n",
    "    model.compile(optimizer='adam', loss='binary_crossentropy', metrics=['accuracy'])\n",
    "\n",
    "    # 학습 데이터를 이용해서 학습\n",
    "    hsit = model.fit(X_train, y_train, epochs=1000, batch_size=5)\n",
    "\n",
    "    # roc curve\n",
    "    fpr, tpr, thresholds = roc_curve()\n",
    "\n",
    "    # 테스트 데이터를 이용해서 검증\n",
    "    k_accuracy = '%.4f' % (model.evaluate(X_test, y_test)[1])\n",
    "    accuracy.append(k_accuracy)\n",
    "\n",
    "# 전체 검증 결과 출력\n"
   ]
  },
  {
   "cell_type": "code",
   "execution_count": null,
   "metadata": {
    "collapsed": false,
    "pycharm": {
     "name": "#%%\n"
    }
   },
   "outputs": [],
   "source": [
    "print('\\nK-fold cross validation Accuracy: {}'.format(accuracy))\n",
    "print('\\nK-fold cross validation mean Accuracy: {}'.format(np.mean(accuracy)))\n"
   ]
  }
 ],
 "metadata": {
  "kernelspec": {
   "display_name": "env3_tf1",
   "language": "python",
   "name": "env3_tf1"
  },
  "language_info": {
   "codemirror_mode": {
    "name": "ipython",
    "version": 3
   },
   "file_extension": ".py",
   "mimetype": "text/x-python",
   "name": "python",
   "nbconvert_exporter": "python",
   "pygments_lexer": "ipython3",
   "version": "3.6.10"
  },
  "pycharm": {
   "stem_cell": {
    "cell_type": "raw",
    "metadata": {
     "collapsed": false
    },
    "source": []
   }
  }
 },
 "nbformat": 4,
 "nbformat_minor": 2
}
