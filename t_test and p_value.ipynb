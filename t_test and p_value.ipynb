{
 "cells": [
  {
   "cell_type": "markdown",
   "metadata": {},
   "source": [
    "# T-test"
   ]
  },
  {
   "cell_type": "code",
   "execution_count": 28,
   "metadata": {},
   "outputs": [
    {
     "data": {
      "text/plain": [
       "['/home/miruware/anaconda3/envs/env3_tf1/lib/python36.zip',\n",
       " '/home/miruware/anaconda3/envs/env3_tf1/lib/python3.6',\n",
       " '/home/miruware/anaconda3/envs/env3_tf1/lib/python3.6/lib-dynload',\n",
       " '',\n",
       " '/home/miruware/.local/lib/python3.6/site-packages',\n",
       " '/home/miruware/anaconda3/envs/env3_tf1/lib/python3.6/site-packages',\n",
       " '/home/miruware/anaconda3/envs/env3_tf1/lib/python3.6/site-packages/IPython/extensions',\n",
       " '/home/miruware/.ipython',\n",
       " '/home/miruware/aProjects/lib']"
      ]
     },
     "execution_count": 28,
     "metadata": {},
     "output_type": "execute_result"
    }
   ],
   "source": [
    "import os, sys\n",
    "sys.path"
   ]
  },
  {
   "cell_type": "code",
   "execution_count": 53,
   "metadata": {},
   "outputs": [],
   "source": [
    "import os, sys\n",
    "import numpy as np\n",
    "from scipy import stats\n",
    "import sonyalib as sonya\n",
    "import seaborn as sns\n",
    "import random"
   ]
  },
  {
   "cell_type": "markdown",
   "metadata": {},
   "source": [
    "## 1-Sample T-test (단일 표본 t-검정)\n",
    "전체 학생들 중 20명의 학생들을 추려 키를 재서 전체 학생들의 평균 키가 175cm인지 아닌지 알아보고 싶다.<br>\n",
    "- 귀무 가설: 학생들의 평균 키가 175cm이다.\n",
    "- 대립 가설: 학생들의 평균 키가 175cm가 아니다.  \n",
    "\n",
    "\n",
    "scipy.stats의 ttest_1samp메소드를 이용한다\n",
    "\n"
   ]
  },
  {
   "cell_type": "code",
   "execution_count": 14,
   "metadata": {},
   "outputs": [
    {
     "name": "stdout",
     "output_type": "stream",
     "text": [
      "The T-statistic is 3.435 and the p-value is 0.003\n"
     ]
    }
   ],
   "source": [
    "import numpy as np\n",
    "from scipy import stats\n",
    " \n",
    "#to get consistent result\n",
    "np.random.seed(1)\n",
    " \n",
    "#generate 20 random heights with mean of 180, standard deviation of 5\n",
    "heights= [180 + np.random.normal(0,5)for _ in range(20)]\n",
    " \n",
    "#perform 1-sample t-test\n",
    "tTestResult = stats.ttest_1samp(heights,175)\n",
    " \n",
    "#print result\n",
    "print(\"The T-statistic is %.3f and the p-value is %.3f\" % tTestResult)"
   ]
  },
  {
   "cell_type": "markdown",
   "metadata": {},
   "source": [
    "p-value 가 0.003으로, 기각역을 p < 0.05로 설정했을 때 귀무 가설을 기각한다. 즉, 귀무 가설이 참일때 (학생들의 실제 평균 키가 175cm일때) 위와 같은 표본을 얻을 확률이 0.003으로, 학생들의 평균 키는 175cm가 아니라고 할 수 있다."
   ]
  },
  {
   "cell_type": "markdown",
   "metadata": {},
   "source": [
    "## Unpaired T-test(독립 표본 t-검정)\n",
    "집단 1과 집단 2에서 각각 20명의 학생들을 추려, 각 집단의 키가 같은지, 다른지 알아보고 싶다.<br>\n",
    "- 귀무 가설: 두 집단의 평균 키는 같다.\n",
    "- 대립 가설: 두 집단의 평균 키는 같지 않다.(양측 검정).  \n",
    "\n",
    "\n",
    "scipy.stats 의 ttest_ind 메소드를 이용한다. (two INDependent sample이라 해서 ttest_ind )"
   ]
  },
  {
   "cell_type": "code",
   "execution_count": 15,
   "metadata": {},
   "outputs": [
    {
     "name": "stdout",
     "output_type": "stream",
     "text": [
      "The t-statistic and p-value assuming equal variances is -2.329 and 0.025.\n",
      "The t-statistic and p-value not assuming equal variances is -2.329 and 0.026\n"
     ]
    }
   ],
   "source": [
    "import numpy as np\n",
    "from scipy import stats\n",
    " \n",
    "#to get consistent result\n",
    "np.random.seed(1)\n",
    " \n",
    "#group 1 heights : mean 170, standard deviation 5\n",
    "group1Heights= [170 + np.random.normal(0,5)for _ in range(20)]\n",
    "#group 2 heights : mean 180, standard deviation 10\n",
    "group2Heights= [175 + np.random.normal(0,10)for _ in range(20)]\n",
    " \n",
    "#perform t-test assuming equal variances\n",
    "tTestResult= stats.ttest_ind(group1Heights, group2Heights)\n",
    " \n",
    "#perform t-test NOT assuming equal variances\n",
    "tTestResultDiffVar= stats.ttest_ind(group1Heights, group2Heights, equal_var=False)\n",
    " \n",
    "print(\"The t-statistic and p-value assuming equal variances is %.3f and %.3f.\" % tTestResult)\n",
    "print(\"The t-statistic and p-value not assuming equal variances is %.3f and %.3f\" % tTestResultDiffVar)\n"
   ]
  },
  {
   "cell_type": "markdown",
   "metadata": {},
   "source": [
    "기각역이 p < 0.05일때 귀무 가설을 기각한다. 즉, 두 집단의 평균 키는 같지 않다.\n",
    "두 집단의 분산이 같다고 가정했을 때보다 같지 않다고 가정했을 때 p-value가 높게 나타난다. 실제로 분산이 같지 않을 때 등분산을 가정하면 p-value가 낮게 나타나 실제로 그 차이가 유의미하지 않음에도 유의미하다고 해석할 수 있다. 주의하자.<br><br>\n",
    "참고) 등분산을 가정하지 않으면 Welch's T-test를 수행한다.\n"
   ]
  },
  {
   "cell_type": "markdown",
   "metadata": {},
   "source": [
    "## Paired T-test(독립 표본 t-검정)\n",
    "다이어트 약을 복용한 사람들 중 20명을 추려 복용 전/후의 체중 차이가 유의미한지 알아보고 싶다.<br>\n",
    "- 귀무 가설: 복용 전/후의 체중 차이가 없다.\n",
    "- 대립 가설: 복용 전/후의 체중 차이가 있다.  \n",
    "\n",
    "\n",
    "scipy.stats 의 ttest_rel 메소드를 이용한다. (two RELated samples)"
   ]
  },
  {
   "cell_type": "code",
   "execution_count": 16,
   "metadata": {},
   "outputs": [
    {
     "name": "stdout",
     "output_type": "stream",
     "text": [
      "The T-statistic is 2.915 and the p-value is 0.009\n"
     ]
    }
   ],
   "source": [
    "import numpy as np\n",
    "from scipy import stats\n",
    " \n",
    "#to get consistent result\n",
    "np.random.seed(1)\n",
    " \n",
    "#before treatment : mean 60, standard deviation 5\n",
    "beforeWeights= [60 + np.random.normal(0,5)for _ in range(20)]\n",
    "#after treatment : mean 0.99-fold decrease, standard deviation 0.02\n",
    "afterWeights= [w * np.random.normal(0.99,0.02)  for w in beforeWeights]\n",
    " \n",
    " #perform paired t-test\n",
    "tTestResult= stats.ttest_rel(beforeWeights, afterWeights)\n",
    " \n",
    "print(\"The T-statistic is %.3f and the p-value is %.3f\" % tTestResult)"
   ]
  },
  {
   "cell_type": "code",
   "execution_count": 37,
   "metadata": {},
   "outputs": [
    {
     "data": {
      "text/plain": [
       "(20, 20)"
      ]
     },
     "execution_count": 37,
     "metadata": {},
     "output_type": "execute_result"
    }
   ],
   "source": [
    "len(beforeWeights), len(afterWeights)"
   ]
  },
  {
   "cell_type": "markdown",
   "metadata": {},
   "source": [
    "기각역 p < 0.05에서 귀무 가설을 기각한다. 즉, 다이어트 약 복용 전/후에 체중 차이는 유의미하다고 할 수 있다.  "
   ]
  },
  {
   "cell_type": "code",
   "execution_count": 30,
   "metadata": {},
   "outputs": [],
   "source": [
    "PATH_EXCEL = './BRC2019_CRF_merged_200923 완료.xlsx'\n",
    "metadata = sonya.get_metadata(PATH_EXCEL)\n"
   ]
  },
  {
   "cell_type": "code",
   "execution_count": 32,
   "metadata": {},
   "outputs": [],
   "source": [
    "df_filtered = metadata.dropna(axis=0, how='any').reset_index(drop=True)  # NaN drop\n",
    "properties = list(df_filtered.columns.values)\n",
    "properties.remove('label')\n",
    "# properties.remove('cN')\n",
    "properties.remove('ID')\n",
    "# X_origin = df_filtered['cN']\n",
    "X_origin = df_filtered[properties]\n",
    "y_origin = df_filtered['label']"
   ]
  },
  {
   "cell_type": "code",
   "execution_count": 34,
   "metadata": {},
   "outputs": [
    {
     "data": {
      "text/html": [
       "<div>\n",
       "<style scoped>\n",
       "    .dataframe tbody tr th:only-of-type {\n",
       "        vertical-align: middle;\n",
       "    }\n",
       "\n",
       "    .dataframe tbody tr th {\n",
       "        vertical-align: top;\n",
       "    }\n",
       "\n",
       "    .dataframe thead th {\n",
       "        text-align: right;\n",
       "    }\n",
       "</style>\n",
       "<table border=\"1\" class=\"dataframe\">\n",
       "  <thead>\n",
       "    <tr style=\"text-align: right;\">\n",
       "      <th></th>\n",
       "      <th>ID</th>\n",
       "      <th>L/R</th>\n",
       "      <th>age</th>\n",
       "      <th>cT</th>\n",
       "      <th>aAverage</th>\n",
       "      <th>aSD</th>\n",
       "      <th>cAverage</th>\n",
       "      <th>cSD</th>\n",
       "      <th>hu_diff</th>\n",
       "      <th>homogeneous</th>\n",
       "      <th>cN</th>\n",
       "      <th>hetero</th>\n",
       "      <th>rim</th>\n",
       "      <th>clustered</th>\n",
       "      <th>non-mass</th>\n",
       "      <th>label</th>\n",
       "    </tr>\n",
       "  </thead>\n",
       "  <tbody>\n",
       "    <tr>\n",
       "      <th>0</th>\n",
       "      <td>0130983</td>\n",
       "      <td>1</td>\n",
       "      <td>79.0</td>\n",
       "      <td>0.2000</td>\n",
       "      <td>0.526992</td>\n",
       "      <td>0.282759</td>\n",
       "      <td>0.387231</td>\n",
       "      <td>0.442197</td>\n",
       "      <td>0.611257</td>\n",
       "      <td>1.00</td>\n",
       "      <td>0.00</td>\n",
       "      <td>0</td>\n",
       "      <td>0</td>\n",
       "      <td>0</td>\n",
       "      <td>0</td>\n",
       "      <td>1.0</td>\n",
       "    </tr>\n",
       "    <tr>\n",
       "      <th>1</th>\n",
       "      <td>0130984</td>\n",
       "      <td>0</td>\n",
       "      <td>59.0</td>\n",
       "      <td>0.1375</td>\n",
       "      <td>0.337404</td>\n",
       "      <td>0.427586</td>\n",
       "      <td>0.675920</td>\n",
       "      <td>0.277457</td>\n",
       "      <td>0.237244</td>\n",
       "      <td>1.00</td>\n",
       "      <td>0.00</td>\n",
       "      <td>0</td>\n",
       "      <td>0</td>\n",
       "      <td>0</td>\n",
       "      <td>0</td>\n",
       "      <td>1.0</td>\n",
       "    </tr>\n",
       "    <tr>\n",
       "      <th>2</th>\n",
       "      <td>0130985</td>\n",
       "      <td>0</td>\n",
       "      <td>64.0</td>\n",
       "      <td>0.1875</td>\n",
       "      <td>0.375964</td>\n",
       "      <td>0.165517</td>\n",
       "      <td>0.439278</td>\n",
       "      <td>0.222543</td>\n",
       "      <td>0.448185</td>\n",
       "      <td>1.00</td>\n",
       "      <td>0.00</td>\n",
       "      <td>0</td>\n",
       "      <td>0</td>\n",
       "      <td>0</td>\n",
       "      <td>0</td>\n",
       "      <td>1.0</td>\n",
       "    </tr>\n",
       "    <tr>\n",
       "      <th>3</th>\n",
       "      <td>0130990</td>\n",
       "      <td>0</td>\n",
       "      <td>56.0</td>\n",
       "      <td>0.1125</td>\n",
       "      <td>0.381748</td>\n",
       "      <td>0.227586</td>\n",
       "      <td>0.321305</td>\n",
       "      <td>0.095376</td>\n",
       "      <td>0.542346</td>\n",
       "      <td>0.75</td>\n",
       "      <td>0.25</td>\n",
       "      <td>0</td>\n",
       "      <td>0</td>\n",
       "      <td>0</td>\n",
       "      <td>0</td>\n",
       "      <td>0.0</td>\n",
       "    </tr>\n",
       "    <tr>\n",
       "      <th>4</th>\n",
       "      <td>0119330</td>\n",
       "      <td>1</td>\n",
       "      <td>55.0</td>\n",
       "      <td>0.1875</td>\n",
       "      <td>0.258997</td>\n",
       "      <td>0.131034</td>\n",
       "      <td>0.374740</td>\n",
       "      <td>0.208092</td>\n",
       "      <td>0.401368</td>\n",
       "      <td>0.50</td>\n",
       "      <td>0.25</td>\n",
       "      <td>0</td>\n",
       "      <td>0</td>\n",
       "      <td>0</td>\n",
       "      <td>0</td>\n",
       "      <td>1.0</td>\n",
       "    </tr>\n",
       "    <tr>\n",
       "      <th>...</th>\n",
       "      <td>...</td>\n",
       "      <td>...</td>\n",
       "      <td>...</td>\n",
       "      <td>...</td>\n",
       "      <td>...</td>\n",
       "      <td>...</td>\n",
       "      <td>...</td>\n",
       "      <td>...</td>\n",
       "      <td>...</td>\n",
       "      <td>...</td>\n",
       "      <td>...</td>\n",
       "      <td>...</td>\n",
       "      <td>...</td>\n",
       "      <td>...</td>\n",
       "      <td>...</td>\n",
       "      <td>...</td>\n",
       "    </tr>\n",
       "    <tr>\n",
       "      <th>275</th>\n",
       "      <td>0131733</td>\n",
       "      <td>0</td>\n",
       "      <td>47.0</td>\n",
       "      <td>0.3125</td>\n",
       "      <td>0.548843</td>\n",
       "      <td>0.213793</td>\n",
       "      <td>0.598196</td>\n",
       "      <td>0.130058</td>\n",
       "      <td>0.469227</td>\n",
       "      <td>0.00</td>\n",
       "      <td>0.50</td>\n",
       "      <td>0</td>\n",
       "      <td>0</td>\n",
       "      <td>0</td>\n",
       "      <td>1</td>\n",
       "      <td>0.0</td>\n",
       "    </tr>\n",
       "    <tr>\n",
       "      <th>276</th>\n",
       "      <td>0131739</td>\n",
       "      <td>1</td>\n",
       "      <td>56.0</td>\n",
       "      <td>0.0875</td>\n",
       "      <td>0.193445</td>\n",
       "      <td>0.420690</td>\n",
       "      <td>0.280361</td>\n",
       "      <td>0.234104</td>\n",
       "      <td>0.419253</td>\n",
       "      <td>0.75</td>\n",
       "      <td>0.75</td>\n",
       "      <td>0</td>\n",
       "      <td>0</td>\n",
       "      <td>0</td>\n",
       "      <td>0</td>\n",
       "      <td>1.0</td>\n",
       "    </tr>\n",
       "    <tr>\n",
       "      <th>277</th>\n",
       "      <td>0131744</td>\n",
       "      <td>0</td>\n",
       "      <td>37.0</td>\n",
       "      <td>0.1375</td>\n",
       "      <td>0.195373</td>\n",
       "      <td>0.096552</td>\n",
       "      <td>0.451770</td>\n",
       "      <td>0.251445</td>\n",
       "      <td>0.290900</td>\n",
       "      <td>0.75</td>\n",
       "      <td>0.00</td>\n",
       "      <td>0</td>\n",
       "      <td>0</td>\n",
       "      <td>0</td>\n",
       "      <td>0</td>\n",
       "      <td>1.0</td>\n",
       "    </tr>\n",
       "    <tr>\n",
       "      <th>278</th>\n",
       "      <td>0131747</td>\n",
       "      <td>1</td>\n",
       "      <td>69.0</td>\n",
       "      <td>0.2250</td>\n",
       "      <td>0.330977</td>\n",
       "      <td>0.331034</td>\n",
       "      <td>0.486468</td>\n",
       "      <td>0.213873</td>\n",
       "      <td>0.375592</td>\n",
       "      <td>1.00</td>\n",
       "      <td>0.25</td>\n",
       "      <td>0</td>\n",
       "      <td>0</td>\n",
       "      <td>0</td>\n",
       "      <td>0</td>\n",
       "      <td>1.0</td>\n",
       "    </tr>\n",
       "    <tr>\n",
       "      <th>279</th>\n",
       "      <td>0119341</td>\n",
       "      <td>1</td>\n",
       "      <td>43.0</td>\n",
       "      <td>0.0750</td>\n",
       "      <td>0.194087</td>\n",
       "      <td>0.531034</td>\n",
       "      <td>0.451076</td>\n",
       "      <td>0.829480</td>\n",
       "      <td>0.290373</td>\n",
       "      <td>0.50</td>\n",
       "      <td>0.00</td>\n",
       "      <td>0</td>\n",
       "      <td>0</td>\n",
       "      <td>0</td>\n",
       "      <td>0</td>\n",
       "      <td>1.0</td>\n",
       "    </tr>\n",
       "  </tbody>\n",
       "</table>\n",
       "<p>280 rows × 16 columns</p>\n",
       "</div>"
      ],
      "text/plain": [
       "          ID  L/R   age      cT  aAverage       aSD  cAverage       cSD  \\\n",
       "0    0130983    1  79.0  0.2000  0.526992  0.282759  0.387231  0.442197   \n",
       "1    0130984    0  59.0  0.1375  0.337404  0.427586  0.675920  0.277457   \n",
       "2    0130985    0  64.0  0.1875  0.375964  0.165517  0.439278  0.222543   \n",
       "3    0130990    0  56.0  0.1125  0.381748  0.227586  0.321305  0.095376   \n",
       "4    0119330    1  55.0  0.1875  0.258997  0.131034  0.374740  0.208092   \n",
       "..       ...  ...   ...     ...       ...       ...       ...       ...   \n",
       "275  0131733    0  47.0  0.3125  0.548843  0.213793  0.598196  0.130058   \n",
       "276  0131739    1  56.0  0.0875  0.193445  0.420690  0.280361  0.234104   \n",
       "277  0131744    0  37.0  0.1375  0.195373  0.096552  0.451770  0.251445   \n",
       "278  0131747    1  69.0  0.2250  0.330977  0.331034  0.486468  0.213873   \n",
       "279  0119341    1  43.0  0.0750  0.194087  0.531034  0.451076  0.829480   \n",
       "\n",
       "      hu_diff  homogeneous    cN  hetero  rim  clustered  non-mass  label  \n",
       "0    0.611257         1.00  0.00       0    0          0         0    1.0  \n",
       "1    0.237244         1.00  0.00       0    0          0         0    1.0  \n",
       "2    0.448185         1.00  0.00       0    0          0         0    1.0  \n",
       "3    0.542346         0.75  0.25       0    0          0         0    0.0  \n",
       "4    0.401368         0.50  0.25       0    0          0         0    1.0  \n",
       "..        ...          ...   ...     ...  ...        ...       ...    ...  \n",
       "275  0.469227         0.00  0.50       0    0          0         1    0.0  \n",
       "276  0.419253         0.75  0.75       0    0          0         0    1.0  \n",
       "277  0.290900         0.75  0.00       0    0          0         0    1.0  \n",
       "278  0.375592         1.00  0.25       0    0          0         0    1.0  \n",
       "279  0.290373         0.50  0.00       0    0          0         0    1.0  \n",
       "\n",
       "[280 rows x 16 columns]"
      ]
     },
     "execution_count": 34,
     "metadata": {},
     "output_type": "execute_result"
    }
   ],
   "source": [
    "df_filtered"
   ]
  },
  {
   "cell_type": "code",
   "execution_count": 36,
   "metadata": {},
   "outputs": [
    {
     "data": {
      "text/plain": [
       "<AxesSubplot:xlabel='label'>"
      ]
     },
     "execution_count": 36,
     "metadata": {},
     "output_type": "execute_result"
    },
    {
     "data": {
      "image/png": "[encoded data removed]",
      "text/plain": [
       "<Figure size 432x288 with 1 Axes>"
      ]
     },
     "metadata": {
      "needs_background": "light"
     },
     "output_type": "display_data"
    }
   ],
   "source": [
    "sns.distplot(df_filtered['label'])"
   ]
  },
  {
   "cell_type": "code",
   "execution_count": 51,
   "metadata": {},
   "outputs": [
    {
     "data": {
      "text/plain": [
       "(84, 196)"
      ]
     },
     "execution_count": 51,
     "metadata": {},
     "output_type": "execute_result"
    }
   ],
   "source": [
    "len(label_negative), len(label_positive)"
   ]
  },
  {
   "cell_type": "code",
   "execution_count": 50,
   "metadata": {},
   "outputs": [],
   "source": [
    "label_negative = [df_filtered['cT'][n] for n, nLabel in enumerate(df_filtered['label']) if int(nLabel) is 0]\n",
    "label_positive = [df_filtered['cT'][n] for n, nLabel in enumerate(df_filtered['label']) if int(nLabel) is 1]"
   ]
  },
  {
   "cell_type": "code",
   "execution_count": 54,
   "metadata": {},
   "outputs": [
    {
     "name": "stdout",
     "output_type": "stream",
     "text": [
      "The T-statistic is 2.790 and the p-value is 0.007\n"
     ]
    }
   ],
   "source": [
    "random_positive = random.choices(population=label_positive, k=len(label_negative))\n",
    "tTestResult= stats.ttest_rel(label_negative, random_positive)\n",
    " \n",
    "print(\"The T-statistic is %.3f and the p-value is %.3f\" % tTestResult)"
   ]
  },
  {
   "cell_type": "code",
   "execution_count": null,
   "metadata": {},
   "outputs": [],
   "source": []
  }
 ],
 "metadata": {
  "kernelspec": {
   "display_name": "env3_tf1",
   "language": "python",
   "name": "env3_tf1"
  },
  "language_info": {
   "codemirror_mode": {
    "name": "ipython",
    "version": 3
   },
   "file_extension": ".py",
   "mimetype": "text/x-python",
   "name": "python",
   "nbconvert_exporter": "python",
   "pygments_lexer": "ipython3",
   "version": "3.6.10"
  }
 },
 "nbformat": 4,
 "nbformat_minor": 2
}
