{
 "cells": [
  {
   "cell_type": "markdown",
   "metadata": {},
   "source": [
    "## accuracy with rfe"
   ]
  },
  {
   "cell_type": "code",
   "execution_count": 31,
   "metadata": {},
   "outputs": [],
   "source": [
    " #-*- coding: utf-8 -*-\n",
    "from IPython.core.interactiveshell import InteractiveShell\n",
    "InteractiveShell.ast_node_interactivity = \"all\""
   ]
  },
  {
   "cell_type": "code",
   "execution_count": 32,
   "metadata": {},
   "outputs": [
    {
     "name": "stdout",
     "output_type": "stream",
     "text": [
      "lib path is already exists.\n"
     ]
    }
   ],
   "source": [
    "def importOwnLib():\n",
    "    if '/home/miruware/aProjects/lib' not in sys.path:\n",
    "        sys.path.append('/home/miruware/aProjects/lib')\n",
    "    else:\n",
    "        print(\"lib path is already exists.\")\n",
    "\n",
    "importOwnLib()\n",
    "\n",
    "import matplotlib.pyplot as plt\n",
    "from sklearn.svm import SVC\n",
    "from sklearn.model_selection import RepeatedStratifiedKFold, StratifiedKFold, train_test_split, cross_val_score\n",
    "from sklearn.feature_selection import RFECV, RFE\n",
    "from sklearn.tree import DecisionTreeClassifier\n",
    "from sklearn.ensemble import RandomForestClassifier\n",
    "from sklearn.pipeline import Pipeline\n",
    "import sonyalib as sonya\n",
    "import keras\n",
    "import numpy as np\n",
    "\n",
    "from keras.models import Sequential\n",
    "from keras.layers import Dense, Activation, Flatten, BatchNormalization, Dropout\n",
    "# from tensorflow.python.keras._impl.keras import Model\n",
    "# from tensorflow.python.keras._impl.keras.models import Model\n",
    "from keras import losses\n",
    "from keras.optimizers import adam\n",
    "import tensorflow as tf"
   ]
  },
  {
   "cell_type": "code",
   "execution_count": 38,
   "metadata": {},
   "outputs": [],
   "source": [
    "PATH_EXCEL = './BRC2019_CRF_merged_200923 완료.xlsx'\n",
    "metadata = sonya.get_metadata(PATH_EXCEL)\n",
    "\n",
    "df_filtered = metadata.dropna(axis=0, how='any').reset_index(drop=True)  # NaN drop\n",
    "properties = list(df_filtered.columns.values)\n",
    "properties.remove('label')\n",
    "# properties.remove('cN')\n",
    "properties.remove('ID')\n",
    "X_origin = df_filtered['cN']\n",
    "y_origin = df_filtered['label']"
   ]
  },
  {
   "cell_type": "code",
   "execution_count": 43,
   "metadata": {},
   "outputs": [],
   "source": [
    "X_train, X_test, y_train, y_test = train_test_split(X_origin, y_origin, test_size=0.3, random_state=0)"
   ]
  },
  {
   "cell_type": "code",
   "execution_count": 40,
   "metadata": {},
   "outputs": [],
   "source": [
    "def get_lr_metric(optimizer):\n",
    "    def lr(y_true, y_pred):\n",
    "        return optimizer.lr\n",
    "    return lr\n",
    "def mlp_model(num_input, dropout=0, lr=0.005, l1=9, l2=9):\n",
    "    keras.backend.clear_session()\n",
    "    ## 모델 구성하기\n",
    "    model = Sequential()\n",
    "    # print learning rate\n",
    "    optimizer = adam(lr=0.001)\n",
    "    lr_metric = get_lr_metric(optimizer)\n",
    "    \n",
    "    model.add(Dense(l1, activation='relu', input_dim=num_input, kernel_initializer='he_normal'))\n",
    "    model.add(BatchNormalization())\n",
    "    model.add(Dense(l2, activation='relu', kernel_initializer='he_normal'))\n",
    "    model.add(BatchNormalization())\n",
    "    model.add(Dropout(dropout))\n",
    "    model.add(Dense(1, activation='sigmoid', kernel_initializer='he_normal'))\n",
    "\n",
    "    ## 모델 컴파일\n",
    "    model.compile(optimizer=adam(lr), loss=losses.binary_crossentropy, metrics=['accuracy', lr_metric])\n",
    "\n",
    "    # model.summary()\n",
    "    return model"
   ]
  },
  {
   "cell_type": "code",
   "execution_count": 47,
   "metadata": {},
   "outputs": [
    {
     "name": "stdout",
     "output_type": "stream",
     "text": [
      "[(0, 'L/R'), (1, 'age'), (2, 'cT'), (3, 'aAverage'), (4, 'aSD'), (5, 'cAverage'), (6, 'cSD'), (7, 'LR'), (8, 'hu_diff'), (9, 'homogeneous'), (10, 'cN'), (11, 'hetero'), (12, 'rim'), (13, 'clustered'), (14, 'non-mass')]\n",
      "RFECV(cv=StratifiedKFold(n_splits=5, random_state=None, shuffle=False),\n",
      "   estimator=DecisionTreeClassifier(class_weight=None, criterion='gini', max_depth=None,\n",
      "            max_features=None, max_leaf_nodes=None,\n",
      "            min_impurity_decrease=0.0, min_impurity_split=None,\n",
      "            min_samples_leaf=1, min_samples_split=2,\n",
      "            min_weight_fraction_leaf=0.0, presort=False, random_state=None,\n",
      "            splitter='best'),\n",
      "   min_features_to_select=5, n_jobs=None, scoring='accuracy', step=1,\n",
      "   verbose=0)\n"
     ]
    },
    {
     "ename": "ValueError",
     "evalue": "Expected 2D array, got 1D array instead:\narray=[0.   0.   0.   0.   0.   0.25 0.   0.75 0.25 0.25 0.   0.25 0.5  0.\n 1.   0.   1.   0.   0.25 1.   0.   0.25 0.   0.75 0.25 0.   0.25 0.25\n 0.25 0.5  0.   0.5  0.75 0.   0.   0.   0.5  0.   0.25 0.   0.25 0.25\n 0.   0.25 0.25 0.75 1.   0.25 0.   0.25 0.25 0.25 0.25 0.25 0.25 0.75\n 0.75 0.   0.   0.25 0.25 0.75 0.   0.   0.   0.5  0.25 0.   0.   0.5\n 0.   0.25 0.75 0.25 1.   0.75 0.5  0.   0.   0.   0.25 0.   0.   0.5\n 0.25 0.25 0.25 0.5  0.   0.   0.25 0.25 0.   0.   0.5  0.   0.25 1.\n 0.5  0.   0.25 0.   0.25 0.   0.25 0.75 0.   0.25 0.5  0.75 0.25 0.25\n 0.25 0.   0.   0.5  0.5  0.   0.25 0.5  0.   0.   0.   0.5  0.   0.25\n 0.25 0.   0.25 0.   0.   0.25 0.   0.5  0.   0.25 0.   0.75 0.   0.25\n 0.25 0.5  0.5  0.   0.5  0.25 1.   0.25 0.25 0.   0.25 0.   0.   0.\n 0.5  0.25 0.25 0.   0.25 0.   0.25 0.   0.25 0.25 0.25 0.   0.5  0.\n 0.   0.   1.   0.   0.   0.   0.25 0.25 0.5  0.25 0.25 0.5  0.5  0.75\n 0.25 0.25 0.5  0.25 1.   0.   0.5  0.25 0.75 0.   0.   0.5  0.   0.5 ].\nReshape your data either using array.reshape(-1, 1) if your data has a single feature or array.reshape(1, -1) if it contains a single sample.",
     "output_type": "error",
     "traceback": [
      "\u001b[0;31m---------------------------------------------------------------------------\u001b[0m",
      "\u001b[0;31mValueError\u001b[0m                                Traceback (most recent call last)",
      "\u001b[0;32m<ipython-input-47-dd9787e4fb69>\u001b[0m in \u001b[0;36m<module>\u001b[0;34m\u001b[0m\n\u001b[1;32m      5\u001b[0m \u001b[0mrfecv\u001b[0m \u001b[0;34m=\u001b[0m \u001b[0mRFECV\u001b[0m\u001b[0;34m(\u001b[0m\u001b[0mestimator\u001b[0m\u001b[0;34m=\u001b[0m\u001b[0mDecisionTreeClassifier\u001b[0m\u001b[0;34m(\u001b[0m\u001b[0;34m)\u001b[0m\u001b[0;34m,\u001b[0m \u001b[0mstep\u001b[0m \u001b[0;34m=\u001b[0m \u001b[0;36m1\u001b[0m\u001b[0;34m,\u001b[0m \u001b[0mcv\u001b[0m\u001b[0;34m=\u001b[0m\u001b[0mStratifiedKFold\u001b[0m\u001b[0;34m(\u001b[0m\u001b[0;36m5\u001b[0m\u001b[0;34m)\u001b[0m\u001b[0;34m,\u001b[0m \u001b[0mmin_features_to_select\u001b[0m \u001b[0;34m=\u001b[0m \u001b[0;36m5\u001b[0m\u001b[0;34m,\u001b[0m \u001b[0mscoring\u001b[0m\u001b[0;34m=\u001b[0m\u001b[0;34m\"accuracy\"\u001b[0m\u001b[0;34m)\u001b[0m\u001b[0;34m\u001b[0m\u001b[0;34m\u001b[0m\u001b[0m\n\u001b[1;32m      6\u001b[0m \u001b[0mprint\u001b[0m\u001b[0;34m(\u001b[0m\u001b[0mrfecv\u001b[0m\u001b[0;34m)\u001b[0m\u001b[0;34m\u001b[0m\u001b[0;34m\u001b[0m\u001b[0m\n\u001b[0;32m----> 7\u001b[0;31m \u001b[0mrfecv\u001b[0m\u001b[0;34m.\u001b[0m\u001b[0mfit\u001b[0m\u001b[0;34m(\u001b[0m\u001b[0mX_train\u001b[0m\u001b[0;34m,\u001b[0m\u001b[0my_train\u001b[0m\u001b[0;34m)\u001b[0m\u001b[0;34m\u001b[0m\u001b[0;34m\u001b[0m\u001b[0m\n\u001b[0m\u001b[1;32m      8\u001b[0m \u001b[0;31m## rfe figure plot\u001b[0m\u001b[0;34m\u001b[0m\u001b[0;34m\u001b[0m\u001b[0;34m\u001b[0m\u001b[0m\n\u001b[1;32m      9\u001b[0m \u001b[0mplt\u001b[0m\u001b[0;34m.\u001b[0m\u001b[0mfigure\u001b[0m\u001b[0;34m(\u001b[0m\u001b[0;34m)\u001b[0m\u001b[0;34m\u001b[0m\u001b[0;34m\u001b[0m\u001b[0m\n",
      "\u001b[0;32m~/anaconda3/envs/env3_tf1/lib/python3.6/site-packages/sklearn/feature_selection/rfe.py\u001b[0m in \u001b[0;36mfit\u001b[0;34m(self, X, y, groups)\u001b[0m\n\u001b[1;32m    470\u001b[0m             \u001b[0mtrain\u001b[0m\u001b[0;34m/\u001b[0m\u001b[0mtest\u001b[0m \u001b[0mset\u001b[0m\u001b[0;34m.\u001b[0m\u001b[0;34m\u001b[0m\u001b[0;34m\u001b[0m\u001b[0m\n\u001b[1;32m    471\u001b[0m         \"\"\"\n\u001b[0;32m--> 472\u001b[0;31m         \u001b[0mX\u001b[0m\u001b[0;34m,\u001b[0m \u001b[0my\u001b[0m \u001b[0;34m=\u001b[0m \u001b[0mcheck_X_y\u001b[0m\u001b[0;34m(\u001b[0m\u001b[0mX\u001b[0m\u001b[0;34m,\u001b[0m \u001b[0my\u001b[0m\u001b[0;34m,\u001b[0m \u001b[0;34m\"csr\"\u001b[0m\u001b[0;34m)\u001b[0m\u001b[0;34m\u001b[0m\u001b[0;34m\u001b[0m\u001b[0m\n\u001b[0m\u001b[1;32m    473\u001b[0m \u001b[0;34m\u001b[0m\u001b[0m\n\u001b[1;32m    474\u001b[0m         \u001b[0;31m# Initialization\u001b[0m\u001b[0;34m\u001b[0m\u001b[0;34m\u001b[0m\u001b[0;34m\u001b[0m\u001b[0m\n",
      "\u001b[0;32m~/anaconda3/envs/env3_tf1/lib/python3.6/site-packages/sklearn/utils/validation.py\u001b[0m in \u001b[0;36mcheck_X_y\u001b[0;34m(X, y, accept_sparse, accept_large_sparse, dtype, order, copy, force_all_finite, ensure_2d, allow_nd, multi_output, ensure_min_samples, ensure_min_features, y_numeric, warn_on_dtype, estimator)\u001b[0m\n\u001b[1;32m    745\u001b[0m                     \u001b[0mensure_min_features\u001b[0m\u001b[0;34m=\u001b[0m\u001b[0mensure_min_features\u001b[0m\u001b[0;34m,\u001b[0m\u001b[0;34m\u001b[0m\u001b[0;34m\u001b[0m\u001b[0m\n\u001b[1;32m    746\u001b[0m                     \u001b[0mwarn_on_dtype\u001b[0m\u001b[0;34m=\u001b[0m\u001b[0mwarn_on_dtype\u001b[0m\u001b[0;34m,\u001b[0m\u001b[0;34m\u001b[0m\u001b[0;34m\u001b[0m\u001b[0m\n\u001b[0;32m--> 747\u001b[0;31m                     estimator=estimator)\n\u001b[0m\u001b[1;32m    748\u001b[0m     \u001b[0;32mif\u001b[0m \u001b[0mmulti_output\u001b[0m\u001b[0;34m:\u001b[0m\u001b[0;34m\u001b[0m\u001b[0;34m\u001b[0m\u001b[0m\n\u001b[1;32m    749\u001b[0m         y = check_array(y, 'csr', force_all_finite=True, ensure_2d=False,\n",
      "\u001b[0;32m~/anaconda3/envs/env3_tf1/lib/python3.6/site-packages/sklearn/utils/validation.py\u001b[0m in \u001b[0;36mcheck_array\u001b[0;34m(array, accept_sparse, accept_large_sparse, dtype, order, copy, force_all_finite, ensure_2d, allow_nd, ensure_min_samples, ensure_min_features, warn_on_dtype, estimator)\u001b[0m\n\u001b[1;32m    545\u001b[0m                     \u001b[0;34m\"Reshape your data either using array.reshape(-1, 1) if \"\u001b[0m\u001b[0;34m\u001b[0m\u001b[0;34m\u001b[0m\u001b[0m\n\u001b[1;32m    546\u001b[0m                     \u001b[0;34m\"your data has a single feature or array.reshape(1, -1) \"\u001b[0m\u001b[0;34m\u001b[0m\u001b[0;34m\u001b[0m\u001b[0m\n\u001b[0;32m--> 547\u001b[0;31m                     \"if it contains a single sample.\".format(array))\n\u001b[0m\u001b[1;32m    548\u001b[0m \u001b[0;34m\u001b[0m\u001b[0m\n\u001b[1;32m    549\u001b[0m         \u001b[0;31m# in the future np.flexible dtypes will be handled like object dtypes\u001b[0m\u001b[0;34m\u001b[0m\u001b[0;34m\u001b[0m\u001b[0;34m\u001b[0m\u001b[0m\n",
      "\u001b[0;31mValueError\u001b[0m: Expected 2D array, got 1D array instead:\narray=[0.   0.   0.   0.   0.   0.25 0.   0.75 0.25 0.25 0.   0.25 0.5  0.\n 1.   0.   1.   0.   0.25 1.   0.   0.25 0.   0.75 0.25 0.   0.25 0.25\n 0.25 0.5  0.   0.5  0.75 0.   0.   0.   0.5  0.   0.25 0.   0.25 0.25\n 0.   0.25 0.25 0.75 1.   0.25 0.   0.25 0.25 0.25 0.25 0.25 0.25 0.75\n 0.75 0.   0.   0.25 0.25 0.75 0.   0.   0.   0.5  0.25 0.   0.   0.5\n 0.   0.25 0.75 0.25 1.   0.75 0.5  0.   0.   0.   0.25 0.   0.   0.5\n 0.25 0.25 0.25 0.5  0.   0.   0.25 0.25 0.   0.   0.5  0.   0.25 1.\n 0.5  0.   0.25 0.   0.25 0.   0.25 0.75 0.   0.25 0.5  0.75 0.25 0.25\n 0.25 0.   0.   0.5  0.5  0.   0.25 0.5  0.   0.   0.   0.5  0.   0.25\n 0.25 0.   0.25 0.   0.   0.25 0.   0.5  0.   0.25 0.   0.75 0.   0.25\n 0.25 0.5  0.5  0.   0.5  0.25 1.   0.25 0.25 0.   0.25 0.   0.   0.\n 0.5  0.25 0.25 0.   0.25 0.   0.25 0.   0.25 0.25 0.25 0.   0.5  0.\n 0.   0.   1.   0.   0.   0.   0.25 0.25 0.5  0.25 0.25 0.5  0.5  0.75\n 0.25 0.25 0.5  0.25 1.   0.   0.5  0.25 0.75 0.   0.   0.5  0.   0.5 ].\nReshape your data either using array.reshape(-1, 1) if your data has a single feature or array.reshape(1, -1) if it contains a single sample."
     ]
    }
   ],
   "source": [
    "print([column for column in enumerate(properties)])\n",
    "svc = SVC(kernel=\"linear\")\n",
    "# rfe = RFECV(estimator=svc, step = 1, cv=StratifiedKFold(2), scoring=\"accuracy\")\n",
    "my_model = mlp_model(len(properties),lr=0.001, l1=9, l2=9)\n",
    "rfecv = RFECV(estimator=DecisionTreeClassifier(), step = 1, cv=StratifiedKFold(5), min_features_to_select = 5, scoring=\"accuracy\")\n",
    "print(rfecv)\n",
    "rfecv.fit(X_train,y_train)\n",
    "## rfe figure plot\n",
    "plt.figure()\n",
    "plt.xlabel(\"Number of features selected\")\n",
    "plt.ylabel(\"Cross validation score\")\n",
    "plt.plot(range(1, len(rfecv.grid_scores_) + 1), rfecv.grid_scores_)\n",
    "fig = plt.gcf()\n",
    "fig.savefig('/home/miruware/Pictures/ResearchDocuments/rfe.png')\n",
    "plt.show()\n",
    "\n",
    "## report which features were selected by RFE\n",
    "for i in range(X_train.shape[1]):\n",
    "    print('Column: %d, Selected %s, Rank: %.3f' % (i, rfecv.support_[i], rfecv.ranking_[i]))\n",
    "    \n",
    "pipeline = Pipeline(steps=[('s',rfe),('m',model)])\n",
    "# evaluate model\n",
    "\n",
    "cv = RepeatedStratifiedKFold(n_splits=10, n_repeats=3, random_state=1)\n",
    "n_scores = cross_val_score(pipeline, X, y, scoring='accuracy', cv=cv, n_jobs=-1, error_score='raise')\n",
    "# report performance\n",
    "print('Accuracy: %.3f (%.3f)' % (mean(n_scores), std(n_scores)))    "
   ]
  },
  {
   "cell_type": "code",
   "execution_count": null,
   "metadata": {},
   "outputs": [],
   "source": []
  },
  {
   "cell_type": "code",
   "execution_count": null,
   "metadata": {},
   "outputs": [],
   "source": []
  },
  {
   "cell_type": "code",
   "execution_count": null,
   "metadata": {},
   "outputs": [],
   "source": []
  }
 ],
 "metadata": {
  "kernelspec": {
   "display_name": "env3_tf1",
   "language": "python",
   "name": "env3_tf1"
  },
  "language_info": {
   "codemirror_mode": {
    "name": "ipython",
    "version": 3
   },
   "file_extension": ".py",
   "mimetype": "text/x-python",
   "name": "python",
   "nbconvert_exporter": "python",
   "pygments_lexer": "ipython3",
   "version": "3.6.10"
  }
 },
 "nbformat": 4,
 "nbformat_minor": 2
}
